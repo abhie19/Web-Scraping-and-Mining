{
 "cells": [
  {
   "cell_type": "markdown",
   "metadata": {},
   "source": [
    "# Making initial package imports for scraping."
   ]
  },
  {
   "cell_type": "code",
   "execution_count": 2,
   "metadata": {
    "collapsed": true
   },
   "outputs": [],
   "source": [
    "# Importing useful modules from Pandas \n",
    "from pandas import Series\n",
    "import pandas as pd\n",
    "from pandas import DataFrame\n",
    "\n"
   ]
  },
  {
   "cell_type": "markdown",
   "metadata": {},
   "source": [
    "## Scraping data from Movielens website\n",
    "\n",
    "http://grouplens.org/datasets/movielens/\n",
    "\n",
    "### Example inspired by Greg Reda"
   ]
  },
  {
   "cell_type": "markdown",
   "metadata": {},
   "source": [
    "## Reading User Data"
   ]
  },
  {
   "cell_type": "code",
   "execution_count": 78,
   "metadata": {
    "collapsed": false
   },
   "outputs": [
    {
     "data": {
      "text/html": [
       "<div style=\"max-height:1000px;max-width:1500px;overflow:auto;\">\n",
       "<table border=\"1\" class=\"dataframe\">\n",
       "  <thead>\n",
       "    <tr style=\"text-align: right;\">\n",
       "      <th></th>\n",
       "      <th>user_id</th>\n",
       "      <th>age</th>\n",
       "      <th>sex</th>\n",
       "      <th>occupation</th>\n",
       "      <th>zip_code</th>\n",
       "    </tr>\n",
       "  </thead>\n",
       "  <tbody>\n",
       "    <tr>\n",
       "      <th>0</th>\n",
       "      <td> 1</td>\n",
       "      <td> 24</td>\n",
       "      <td> M</td>\n",
       "      <td> technician</td>\n",
       "      <td> 85711</td>\n",
       "    </tr>\n",
       "    <tr>\n",
       "      <th>1</th>\n",
       "      <td> 2</td>\n",
       "      <td> 53</td>\n",
       "      <td> F</td>\n",
       "      <td>      other</td>\n",
       "      <td> 94043</td>\n",
       "    </tr>\n",
       "    <tr>\n",
       "      <th>2</th>\n",
       "      <td> 3</td>\n",
       "      <td> 23</td>\n",
       "      <td> M</td>\n",
       "      <td>     writer</td>\n",
       "      <td> 32067</td>\n",
       "    </tr>\n",
       "    <tr>\n",
       "      <th>3</th>\n",
       "      <td> 4</td>\n",
       "      <td> 24</td>\n",
       "      <td> M</td>\n",
       "      <td> technician</td>\n",
       "      <td> 43537</td>\n",
       "    </tr>\n",
       "    <tr>\n",
       "      <th>4</th>\n",
       "      <td> 5</td>\n",
       "      <td> 33</td>\n",
       "      <td> F</td>\n",
       "      <td>      other</td>\n",
       "      <td> 15213</td>\n",
       "    </tr>\n",
       "  </tbody>\n",
       "</table>\n",
       "</div>"
      ],
      "text/plain": [
       "   user_id  age sex  occupation zip_code\n",
       "0        1   24   M  technician    85711\n",
       "1        2   53   F       other    94043\n",
       "2        3   23   M      writer    32067\n",
       "3        4   24   M  technician    43537\n",
       "4        5   33   F       other    15213"
      ]
     },
     "execution_count": 78,
     "metadata": {},
     "output_type": "execute_result"
    }
   ],
   "source": [
    "# passing column header names for the CSV file\n",
    "\n",
    "u_cols = ['user_id', 'age', 'sex', 'occupation', 'zip_code']\n",
    "\n",
    "#using pandas read_csv function to read data from csv file into a dataframe \n",
    "users = pd.read_csv('http://files.grouplens.org/datasets/movielens/ml-100k/u.user', sep = '|', names = u_cols)\n",
    "\n",
    "users.head() # only displaying the first five values of the imported dataframe\n"
   ]
  },
  {
   "cell_type": "markdown",
   "metadata": {},
   "source": [
    "## Reading Ratings Data"
   ]
  },
  {
   "cell_type": "code",
   "execution_count": 79,
   "metadata": {
    "collapsed": false
   },
   "outputs": [
    {
     "data": {
      "text/html": [
       "<div style=\"max-height:1000px;max-width:1500px;overflow:auto;\">\n",
       "<table border=\"1\" class=\"dataframe\">\n",
       "  <thead>\n",
       "    <tr style=\"text-align: right;\">\n",
       "      <th></th>\n",
       "      <th>user_id</th>\n",
       "      <th>movie_id</th>\n",
       "      <th>rating</th>\n",
       "      <th>unix_timestamp</th>\n",
       "    </tr>\n",
       "  </thead>\n",
       "  <tbody>\n",
       "    <tr>\n",
       "      <th>0</th>\n",
       "      <td> 196</td>\n",
       "      <td> 242</td>\n",
       "      <td> 3</td>\n",
       "      <td> 881250949</td>\n",
       "    </tr>\n",
       "    <tr>\n",
       "      <th>1</th>\n",
       "      <td> 186</td>\n",
       "      <td> 302</td>\n",
       "      <td> 3</td>\n",
       "      <td> 891717742</td>\n",
       "    </tr>\n",
       "    <tr>\n",
       "      <th>2</th>\n",
       "      <td>  22</td>\n",
       "      <td> 377</td>\n",
       "      <td> 1</td>\n",
       "      <td> 878887116</td>\n",
       "    </tr>\n",
       "  </tbody>\n",
       "</table>\n",
       "</div>"
      ],
      "text/plain": [
       "   user_id  movie_id  rating  unix_timestamp\n",
       "0      196       242       3       881250949\n",
       "1      186       302       3       891717742\n",
       "2       22       377       1       878887116"
      ]
     },
     "execution_count": 79,
     "metadata": {},
     "output_type": "execute_result"
    }
   ],
   "source": [
    "r_cols = ['user_id', 'movie_id', 'rating', 'unix_timestamp']\n",
    "\n",
    "ratings = pd.read_csv('http://files.grouplens.org/datasets/movielens/ml-100k/u.data', sep = '\\t', names = r_cols)\n",
    "\n",
    "ratings.head(3)"
   ]
  },
  {
   "cell_type": "markdown",
   "metadata": {},
   "source": [
    "## Reading Movie Data"
   ]
  },
  {
   "cell_type": "code",
   "execution_count": 80,
   "metadata": {
    "collapsed": false,
    "scrolled": false
   },
   "outputs": [
    {
     "name": "stdout",
     "output_type": "stream",
     "text": [
      "   movie_id              title release_date  video_release_date  \\\n",
      "0         1   Toy Story (1995)  01-Jan-1995                 NaN   \n",
      "1         2   GoldenEye (1995)  01-Jan-1995                 NaN   \n",
      "2         3  Four Rooms (1995)  01-Jan-1995                 NaN   \n",
      "3         4  Get Shorty (1995)  01-Jan-1995                 NaN   \n",
      "4         5     Copycat (1995)  01-Jan-1995                 NaN   \n",
      "\n",
      "                                            imdb_url  \n",
      "0  http://us.imdb.com/M/title-exact?Toy%20Story%2...  \n",
      "1  http://us.imdb.com/M/title-exact?GoldenEye%20(...  \n",
      "2  http://us.imdb.com/M/title-exact?Four%20Rooms%...  \n",
      "3  http://us.imdb.com/M/title-exact?Get%20Shorty%...  \n",
      "4  http://us.imdb.com/M/title-exact?Copycat%20(1995)  \n",
      "          movie_id  video_release_date\n",
      "count  1682.000000                   0\n",
      "mean    841.500000                 NaN\n",
      "std     485.695893                 NaN\n",
      "min       1.000000                 NaN\n",
      "25%     421.250000                 NaN\n",
      "50%     841.500000                 NaN\n",
      "75%    1261.750000                 NaN\n",
      "max    1682.000000                 NaN\n"
     ]
    },
    {
     "data": {
      "text/plain": [
       "movie_id                int64\n",
       "title                  object\n",
       "release_date           object\n",
       "video_release_date    float64\n",
       "imdb_url               object\n",
       "dtype: object"
      ]
     },
     "execution_count": 80,
     "metadata": {},
     "output_type": "execute_result"
    }
   ],
   "source": [
    "m_cols = ['movie_id', 'title', 'release_date', 'video_release_date', 'imdb_url']\n",
    "\n",
    "movies = pd.read_csv('http://files.grouplens.org/datasets/movielens/ml-100k/u.item', sep = '|',names = m_cols, usecols=range(5))\n",
    "\n",
    "print movies.head()\n",
    "print movies.describe() # checking the mathematical functions on the data\n",
    "movies.dtypes # inquiring the datatype of each feature"
   ]
  },
  {
   "cell_type": "markdown",
   "metadata": {},
   "source": [
    "## Trying out some random pandas functions on the data before analysis"
   ]
  },
  {
   "cell_type": "code",
   "execution_count": 81,
   "metadata": {
    "collapsed": false
   },
   "outputs": [
    {
     "name": "stdout",
     "output_type": "stream",
     "text": [
      "   occupation sex\n",
      "0  technician   M\n",
      "1       other   F\n",
      "2      writer   M\n",
      "3  technician   M\n",
      "4       other   F\n",
      "\n",
      " Filter \n",
      "\n",
      "    user_id  age sex     occupation zip_code\n",
      "6         7   57   M  administrator    91344\n",
      "9        10   53   M         lawyer    90703\n",
      "12       13   47   M       educator    29206\n",
      "25       26   49   M       engineer    21044\n",
      "46       47   53   M      marketing    07102\n",
      "\n",
      " Summary \n",
      "\n",
      "count    943.000000\n",
      "mean      34.051962\n",
      "std       12.192740\n",
      "min        7.000000\n",
      "25%       25.000000\n",
      "50%       31.000000\n",
      "75%       43.000000\n",
      "max       73.000000\n",
      "dtype: float64\n"
     ]
    }
   ],
   "source": [
    "users['occupation'].head()\n",
    "multi_cols = ['occupation', 'sex'] # joining multiple column together\n",
    "print users[multi_cols].head()\n",
    "\n",
    "print \"\\n Filter \\n\"\n",
    "# applying filters on the data\n",
    "oldUsers = users[(users.age > 45) & (users.sex == 'M')]\n",
    "print oldUsers.head()\n",
    "\n",
    "# statistical summary of the data in the dataframe\n",
    "print \"\\n Summary \\n\"\n",
    "print users.age.describe() # summarises certain common mathematical function such as mean, sd, percentiles, etc\n",
    "\n"
   ]
  },
  {
   "cell_type": "markdown",
   "metadata": {},
   "source": [
    "## Grouping data\n"
   ]
  },
  {
   "cell_type": "markdown",
   "metadata": {},
   "source": [
    "### Lets see the average ratings per user"
   ]
  },
  {
   "cell_type": "code",
   "execution_count": 82,
   "metadata": {
    "collapsed": false
   },
   "outputs": [
    {
     "name": "stdout",
     "output_type": "stream",
     "text": [
      "user_id\n",
      "1          272\n",
      "2           62\n",
      "3           54\n",
      "4           24\n",
      "5          175\n",
      "Name: movie_id, dtype: int64\n",
      "movie_id\n",
      "1           3.878319\n",
      "2           3.206107\n",
      "3           3.033333\n",
      "4           3.550239\n",
      "5           3.302326\n",
      "Name: rating, dtype: float64\n"
     ]
    }
   ],
   "source": [
    "ratings.head()\n",
    "ratings[ratings.user_id == 196]\n",
    "\n",
    "grouped_data = ratings['movie_id'].groupby(ratings.user_id)\n",
    "print grouped_data.count().head()\n",
    "\n",
    "\n",
    "## Average rating per movie\n",
    "\n",
    "grouped_data_avg = ratings['rating'].groupby(ratings['movie_id'])\n",
    "average_rating = grouped_data_avg.mean()\n",
    "print average_rating.head()"
   ]
  },
  {
   "cell_type": "code",
   "execution_count": 83,
   "metadata": {
    "collapsed": false,
    "scrolled": true
   },
   "outputs": [
    {
     "name": "stdout",
     "output_type": "stream",
     "text": [
      "\n",
      " Best movies are\n",
      "\n",
      " Number of ratings per movie\n",
      "movie_id\n",
      "814         1\n",
      "1122        1\n",
      "1189        3\n",
      "1201        1\n",
      "1293        3\n",
      "1467        2\n",
      "1500        2\n",
      "1536        1\n",
      "1599        1\n",
      "1653        1\n",
      "Name: rating, dtype: int64\n"
     ]
    }
   ],
   "source": [
    "# Getting the titles for the movies with highest ratings\n",
    "max_rating = average_rating.max()\n",
    "good_movie_ids = average_rating[average_rating == max_rating].index\n",
    "print \"\\n Best movies are\"\n",
    "movies[movies.movie_id.isin(good_movie_ids)].title \n",
    "\n",
    "# Checking the number of ratings for the highest ranked movies\n",
    "high_ranked_movies = grouped_data_avg.count()\n",
    "print \"\\n Number of ratings per movie\"\n",
    "print high_ranked_movies[average_rating == max_rating]\n"
   ]
  },
  {
   "cell_type": "code",
   "execution_count": null,
   "metadata": {
    "collapsed": true
   },
   "outputs": [],
   "source": []
  }
 ],
 "metadata": {
  "kernelspec": {
   "display_name": "Python 2",
   "language": "python",
   "name": "python2"
  },
  "language_info": {
   "codemirror_mode": {
    "name": "ipython",
    "version": 2
   },
   "file_extension": ".py",
   "mimetype": "text/x-python",
   "name": "python",
   "nbconvert_exporter": "python",
   "pygments_lexer": "ipython2",
   "version": "2.7.10"
  }
 },
 "nbformat": 4,
 "nbformat_minor": 0
}
